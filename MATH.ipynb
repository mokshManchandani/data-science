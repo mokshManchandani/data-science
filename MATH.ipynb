{
  "cells": [
    {
      "cell_type": "markdown",
      "metadata": {
        "id": "view-in-github",
        "colab_type": "text"
      },
      "source": [
        "<a href=\"https://colab.research.google.com/github/mokshManchandani/data-science/blob/deeplearning-pytorch-udemy/MATH.ipynb\" target=\"_parent\"><img src=\"https://colab.research.google.com/assets/colab-badge.svg\" alt=\"Open In Colab\"/></a>"
      ]
    },
    {
      "cell_type": "code",
      "execution_count": 56,
      "metadata": {
        "id": "lIYdn1woOS1n"
      },
      "outputs": [],
      "source": [
        "import torch\n",
        "import numpy as np\n",
        "import torch.nn.functional as F\n",
        "import matplotlib.pyplot as plt\n",
        "import scipy.stats as stats"
      ]
    },
    {
      "cell_type": "code",
      "source": [
        "np_vector = np.array([[1.0, 2.0, 3.0]])\n",
        "torch_vector = torch.from_numpy(np_vector).float()"
      ],
      "metadata": {
        "id": "jOdYisvR8dTH"
      },
      "execution_count": 2,
      "outputs": []
    },
    {
      "cell_type": "markdown",
      "source": [
        "# Transpose operations"
      ],
      "metadata": {
        "id": "8eOpgcQT_2hw"
      }
    },
    {
      "cell_type": "code",
      "source": [
        "# transpose of the np_vector\n",
        "np_vector.T"
      ],
      "metadata": {
        "id": "1fL6_K3G8my3",
        "outputId": "7e90438d-2254-4a8c-f41d-24d2c8879e32",
        "colab": {
          "base_uri": "https://localhost:8080/"
        }
      },
      "execution_count": 3,
      "outputs": [
        {
          "output_type": "execute_result",
          "data": {
            "text/plain": [
              "array([[1.],\n",
              "       [2.],\n",
              "       [3.]])"
            ]
          },
          "metadata": {},
          "execution_count": 3
        }
      ]
    },
    {
      "cell_type": "code",
      "source": [
        "torch_vector.T"
      ],
      "metadata": {
        "id": "R3SLJIRL8pb5",
        "outputId": "b04bf2a3-fce4-492b-c7b4-352d2ce6c6ee",
        "colab": {
          "base_uri": "https://localhost:8080/"
        }
      },
      "execution_count": 4,
      "outputs": [
        {
          "output_type": "execute_result",
          "data": {
            "text/plain": [
              "tensor([[1.],\n",
              "        [2.],\n",
              "        [3.]])"
            ]
          },
          "metadata": {},
          "execution_count": 4
        }
      ]
    },
    {
      "cell_type": "code",
      "source": [
        "np_matrix = np.arange(1,9).reshape(2, 4)\n",
        "np_matrix"
      ],
      "metadata": {
        "id": "mI2BzxYr82Fr",
        "outputId": "9f68daaa-b318-4651-8f99-c4bb75669ce6",
        "colab": {
          "base_uri": "https://localhost:8080/"
        }
      },
      "execution_count": 5,
      "outputs": [
        {
          "output_type": "execute_result",
          "data": {
            "text/plain": [
              "array([[1, 2, 3, 4],\n",
              "       [5, 6, 7, 8]])"
            ]
          },
          "metadata": {},
          "execution_count": 5
        }
      ]
    },
    {
      "cell_type": "code",
      "source": [
        "torch_matrix = torch.from_numpy(np_matrix).float()\n",
        "torch_matrix"
      ],
      "metadata": {
        "id": "-mjzHSQP9Yn6",
        "outputId": "a0d94e2e-7656-4199-9633-ba6c6fce0233",
        "colab": {
          "base_uri": "https://localhost:8080/"
        }
      },
      "execution_count": 6,
      "outputs": [
        {
          "output_type": "execute_result",
          "data": {
            "text/plain": [
              "tensor([[1., 2., 3., 4.],\n",
              "        [5., 6., 7., 8.]])"
            ]
          },
          "metadata": {},
          "execution_count": 6
        }
      ]
    },
    {
      "cell_type": "code",
      "source": [
        "torch_matrix.T"
      ],
      "metadata": {
        "id": "S_0sqMZp9dB8",
        "outputId": "894cc5a4-c39e-4187-ba1d-d2625006b635",
        "colab": {
          "base_uri": "https://localhost:8080/"
        }
      },
      "execution_count": 7,
      "outputs": [
        {
          "output_type": "execute_result",
          "data": {
            "text/plain": [
              "tensor([[1., 5.],\n",
              "        [2., 6.],\n",
              "        [3., 7.],\n",
              "        [4., 8.]])"
            ]
          },
          "metadata": {},
          "execution_count": 7
        }
      ]
    },
    {
      "cell_type": "code",
      "source": [
        "np_matrix.T"
      ],
      "metadata": {
        "id": "YaNe17Kk9gBU",
        "outputId": "08d82ea0-a0a0-494c-f4fc-2179103fafa3",
        "colab": {
          "base_uri": "https://localhost:8080/"
        }
      },
      "execution_count": 8,
      "outputs": [
        {
          "output_type": "execute_result",
          "data": {
            "text/plain": [
              "array([[1, 5],\n",
              "       [2, 6],\n",
              "       [3, 7],\n",
              "       [4, 8]])"
            ]
          },
          "metadata": {},
          "execution_count": 8
        }
      ]
    },
    {
      "cell_type": "markdown",
      "source": [
        "# Vector Dot products"
      ],
      "metadata": {
        "id": "72T6Jldv_5go"
      }
    },
    {
      "cell_type": "code",
      "source": [
        "np_vector_a = np.array([1, 2, 3, 4])\n",
        "np_vector_b = np.array([0,1,0,-1])\n",
        "\n",
        "np_vector_a.dot(np_vecor_b) , np.sum(np_vector_a * np_vector_b)"
      ],
      "metadata": {
        "id": "v3ZfZqbZ9hR1",
        "outputId": "d20c6979-8766-403a-e0b2-08599f70de0b",
        "colab": {
          "base_uri": "https://localhost:8080/",
          "height": 180
        }
      },
      "execution_count": 9,
      "outputs": [
        {
          "output_type": "error",
          "ename": "NameError",
          "evalue": "name 'np_vecor_b' is not defined",
          "traceback": [
            "\u001b[0;31m---------------------------------------------------------------------------\u001b[0m",
            "\u001b[0;31mNameError\u001b[0m                                 Traceback (most recent call last)",
            "\u001b[0;32m<ipython-input-9-aacc9c340914>\u001b[0m in \u001b[0;36m<cell line: 4>\u001b[0;34m()\u001b[0m\n\u001b[1;32m      2\u001b[0m \u001b[0mnp_vector_b\u001b[0m \u001b[0;34m=\u001b[0m \u001b[0mnp\u001b[0m\u001b[0;34m.\u001b[0m\u001b[0marray\u001b[0m\u001b[0;34m(\u001b[0m\u001b[0;34m[\u001b[0m\u001b[0;36m0\u001b[0m\u001b[0;34m,\u001b[0m\u001b[0;36m1\u001b[0m\u001b[0;34m,\u001b[0m\u001b[0;36m0\u001b[0m\u001b[0;34m,\u001b[0m\u001b[0;34m-\u001b[0m\u001b[0;36m1\u001b[0m\u001b[0;34m]\u001b[0m\u001b[0;34m)\u001b[0m\u001b[0;34m\u001b[0m\u001b[0;34m\u001b[0m\u001b[0m\n\u001b[1;32m      3\u001b[0m \u001b[0;34m\u001b[0m\u001b[0m\n\u001b[0;32m----> 4\u001b[0;31m \u001b[0mnp_vector_a\u001b[0m\u001b[0;34m.\u001b[0m\u001b[0mdot\u001b[0m\u001b[0;34m(\u001b[0m\u001b[0mnp_vecor_b\u001b[0m\u001b[0;34m)\u001b[0m \u001b[0;34m,\u001b[0m \u001b[0mnp\u001b[0m\u001b[0;34m.\u001b[0m\u001b[0msum\u001b[0m\u001b[0;34m(\u001b[0m\u001b[0mnp_vector_a\u001b[0m \u001b[0;34m*\u001b[0m \u001b[0mnp_vector_b\u001b[0m\u001b[0;34m)\u001b[0m\u001b[0;34m\u001b[0m\u001b[0;34m\u001b[0m\u001b[0m\n\u001b[0m",
            "\u001b[0;31mNameError\u001b[0m: name 'np_vecor_b' is not defined"
          ]
        }
      ]
    },
    {
      "cell_type": "code",
      "source": [
        "torch_vector_a = torch.from_numpy(np_vector_a).float()\n",
        "torch_vector_b = torch.from_numpy(np_vector_b).float()\n",
        "\n",
        "torch_vector_a.dot(torch_vector_b), torch.sum(torch_vector_a * torch_vector_b)"
      ],
      "metadata": {
        "id": "PVcFaGHZANY6",
        "outputId": "eee171dd-ae59-47e1-87e3-1f9f7885c63f",
        "colab": {
          "base_uri": "https://localhost:8080/"
        }
      },
      "execution_count": 10,
      "outputs": [
        {
          "output_type": "execute_result",
          "data": {
            "text/plain": [
              "(tensor(-2.), tensor(-2.))"
            ]
          },
          "metadata": {},
          "execution_count": 10
        }
      ]
    },
    {
      "cell_type": "markdown",
      "source": [
        "# Matrix Multiplication"
      ],
      "metadata": {
        "id": "yh8HuQBACslr"
      }
    },
    {
      "cell_type": "code",
      "source": [
        "np_A, np_B, np_C = np.random.randn(3,4), np.random.randn(4, 5), np.random.randn(3, 7)\n",
        "torch_A, torch_B, torch_C = torch.from_numpy(np_A).float(), torch.from_numpy(np_B).float(), torch.from_numpy(np_C).float()"
      ],
      "metadata": {
        "id": "vSgq0_i3ARPy"
      },
      "execution_count": 11,
      "outputs": []
    },
    {
      "cell_type": "code",
      "source": [
        "np.matmul(np_A, np_B)"
      ],
      "metadata": {
        "id": "870GC3vIC975",
        "outputId": "ded5146c-f395-4ce6-967f-27a7e71ac0d5",
        "colab": {
          "base_uri": "https://localhost:8080/"
        }
      },
      "execution_count": 12,
      "outputs": [
        {
          "output_type": "execute_result",
          "data": {
            "text/plain": [
              "array([[-2.77365405,  2.56008982, -1.02116271,  2.82119363,  0.56380816],\n",
              "       [ 1.93553835,  0.01485488,  1.84024285,  2.40700991, -0.2355631 ],\n",
              "       [-1.20696782, -0.19405196, -2.16765731, -1.18261113, -0.49477676]])"
            ]
          },
          "metadata": {},
          "execution_count": 12
        }
      ]
    },
    {
      "cell_type": "code",
      "source": [
        "np.matmul(np_A.T, np_C)"
      ],
      "metadata": {
        "id": "CV1e_Vb7DFBn",
        "outputId": "d45664ee-35f8-4960-ee90-b77bfc93b6a5",
        "colab": {
          "base_uri": "https://localhost:8080/"
        }
      },
      "execution_count": 13,
      "outputs": [
        {
          "output_type": "execute_result",
          "data": {
            "text/plain": [
              "array([[ 0.50291502, -0.9330124 , -1.68170257, -2.03803204, -2.22442507,\n",
              "        -0.50656427,  0.42181993],\n",
              "       [ 1.99316641,  1.38840702,  0.16154521,  0.71754127, -1.42750726,\n",
              "         1.03022904,  2.96531578],\n",
              "       [-1.72445573,  0.8524119 ,  2.20004415,  3.01055058,  2.44589606,\n",
              "        -0.02553563, -2.07328121],\n",
              "       [ 0.35293841,  0.26396063, -0.19900546,  0.20693625, -1.29837968,\n",
              "        -0.02496189,  0.51152226]])"
            ]
          },
          "metadata": {},
          "execution_count": 13
        }
      ]
    },
    {
      "cell_type": "code",
      "source": [
        "np_B @ np_C"
      ],
      "metadata": {
        "id": "aIUa09_wDJTj",
        "outputId": "46418d24-354e-4497-9860-e211ba5e5b4c",
        "colab": {
          "base_uri": "https://localhost:8080/",
          "height": 144
        }
      },
      "execution_count": 14,
      "outputs": [
        {
          "output_type": "error",
          "ename": "ValueError",
          "evalue": "matmul: Input operand 1 has a mismatch in its core dimension 0, with gufunc signature (n?,k),(k,m?)->(n?,m?) (size 3 is different from 5)",
          "traceback": [
            "\u001b[0;31m---------------------------------------------------------------------------\u001b[0m",
            "\u001b[0;31mValueError\u001b[0m                                Traceback (most recent call last)",
            "\u001b[0;32m<ipython-input-14-11a2643e2e5a>\u001b[0m in \u001b[0;36m<cell line: 1>\u001b[0;34m()\u001b[0m\n\u001b[0;32m----> 1\u001b[0;31m \u001b[0mnp_B\u001b[0m \u001b[0;34m@\u001b[0m \u001b[0mnp_C\u001b[0m\u001b[0;34m\u001b[0m\u001b[0;34m\u001b[0m\u001b[0m\n\u001b[0m",
            "\u001b[0;31mValueError\u001b[0m: matmul: Input operand 1 has a mismatch in its core dimension 0, with gufunc signature (n?,k),(k,m?)->(n?,m?) (size 3 is different from 5)"
          ]
        }
      ]
    },
    {
      "cell_type": "code",
      "source": [
        "torch.matmul(torch_A, torch_B)"
      ],
      "metadata": {
        "id": "-21GkyTwDRwO",
        "outputId": "372e2e73-4a92-446b-d428-07891267d980",
        "colab": {
          "base_uri": "https://localhost:8080/"
        }
      },
      "execution_count": 15,
      "outputs": [
        {
          "output_type": "execute_result",
          "data": {
            "text/plain": [
              "tensor([[-2.7737,  2.5601, -1.0212,  2.8212,  0.5638],\n",
              "        [ 1.9355,  0.0149,  1.8402,  2.4070, -0.2356],\n",
              "        [-1.2070, -0.1941, -2.1677, -1.1826, -0.4948]])"
            ]
          },
          "metadata": {},
          "execution_count": 15
        }
      ]
    },
    {
      "cell_type": "code",
      "source": [
        "torch_A.T @ torch_C"
      ],
      "metadata": {
        "id": "seAR-hV7DWg4",
        "outputId": "9e5f7e81-17ed-4ea0-9947-8967517b7b69",
        "colab": {
          "base_uri": "https://localhost:8080/"
        }
      },
      "execution_count": 16,
      "outputs": [
        {
          "output_type": "execute_result",
          "data": {
            "text/plain": [
              "tensor([[ 0.5029, -0.9330, -1.6817, -2.0380, -2.2244, -0.5066,  0.4218],\n",
              "        [ 1.9932,  1.3884,  0.1615,  0.7175, -1.4275,  1.0302,  2.9653],\n",
              "        [-1.7245,  0.8524,  2.2000,  3.0106,  2.4459, -0.0255, -2.0733],\n",
              "        [ 0.3529,  0.2640, -0.1990,  0.2069, -1.2984, -0.0250,  0.5115]])"
            ]
          },
          "metadata": {},
          "execution_count": 16
        }
      ]
    },
    {
      "cell_type": "markdown",
      "source": [
        "# Softmax"
      ],
      "metadata": {
        "id": "aoZDr6AWE4l8"
      }
    },
    {
      "cell_type": "code",
      "source": [
        "x = torch.linspace(-2, 2, 100)"
      ],
      "metadata": {
        "id": "KiUkLbZWDbF5"
      },
      "execution_count": 17,
      "outputs": []
    },
    {
      "cell_type": "code",
      "source": [
        "plt.plot(torch.exp(x).numpy());"
      ],
      "metadata": {
        "id": "IziNGSRiEe5b",
        "outputId": "3f072582-2146-4ece-a4b7-54d02c098403",
        "colab": {
          "base_uri": "https://localhost:8080/",
          "height": 430
        }
      },
      "execution_count": 18,
      "outputs": [
        {
          "output_type": "display_data",
          "data": {
            "text/plain": [
              "<Figure size 640x480 with 1 Axes>"
            ],
            "image/png": "[encoded data removed]"
          },
          "metadata": {}
        }
      ]
    },
    {
      "cell_type": "code",
      "source": [
        "plt.plot(torch.exp(x) / torch.exp(x).sum());"
      ],
      "metadata": {
        "id": "4CQXvTPzEgRa",
        "outputId": "e009bd75-469c-4783-ae6d-a0d85b6c6060",
        "colab": {
          "base_uri": "https://localhost:8080/",
          "height": 430
        }
      },
      "execution_count": 19,
      "outputs": [
        {
          "output_type": "display_data",
          "data": {
            "text/plain": [
              "<Figure size 640x480 with 1 Axes>"
            ],
            "image/png": "[encoded data removed]"
          },
          "metadata": {}
        }
      ]
    },
    {
      "cell_type": "code",
      "source": [
        "plt.plot(torch.softmax(x, dim=0));"
      ],
      "metadata": {
        "id": "gHFE9HB5vynq",
        "outputId": "62156282-0037-4985-f38c-b55527fef2d7",
        "colab": {
          "base_uri": "https://localhost:8080/",
          "height": 430
        }
      },
      "execution_count": 20,
      "outputs": [
        {
          "output_type": "display_data",
          "data": {
            "text/plain": [
              "<Figure size 640x480 with 1 Axes>"
            ],
            "image/png": "[encoded data removed]"
          },
          "metadata": {}
        }
      ]
    },
    {
      "cell_type": "markdown",
      "source": [
        "# Logrithims"
      ],
      "metadata": {
        "id": "LVrjS6qNx0IX"
      }
    },
    {
      "cell_type": "code",
      "source": [
        "x = torch.linspace(1, 10, 100)"
      ],
      "metadata": {
        "id": "SENcJ35nv-cb"
      },
      "execution_count": 21,
      "outputs": []
    },
    {
      "cell_type": "code",
      "source": [
        "plt.plot(torch.log(x).numpy());"
      ],
      "metadata": {
        "id": "HVa7EP4Fx19C",
        "outputId": "3f11f90f-20a6-49c4-aac2-93dad31dc838",
        "colab": {
          "base_uri": "https://localhost:8080/",
          "height": 430
        }
      },
      "execution_count": 22,
      "outputs": [
        {
          "output_type": "display_data",
          "data": {
            "text/plain": [
              "<Figure size 640x480 with 1 Axes>"
            ],
            "image/png": "[encoded data removed]"
          },
          "metadata": {}
        }
      ]
    },
    {
      "cell_type": "markdown",
      "source": [
        "# Shannon Entropy : single value and cross entropy\n"
      ],
      "metadata": {
        "id": "xJJ1kIKh0brZ"
      }
    },
    {
      "cell_type": "code",
      "source": [
        "# probability of an event happening\n",
        "p = .25\n",
        "q = 1 - p\n",
        "x = [p, q]\n",
        "H = 0\n",
        "for prob in x:\n",
        "  H -= prob * np.log(prob)\n",
        "H"
      ],
      "metadata": {
        "id": "1AZbcUXAx6UV",
        "outputId": "5277b574-94d6-4d1e-872d-79cf14e121e4",
        "colab": {
          "base_uri": "https://localhost:8080/"
        }
      },
      "execution_count": 23,
      "outputs": [
        {
          "output_type": "execute_result",
          "data": {
            "text/plain": [
              "0.5623351446188083"
            ]
          },
          "metadata": {},
          "execution_count": 23
        }
      ]
    },
    {
      "cell_type": "code",
      "source": [
        "# make sure the probs sum up to 1\n",
        "P = [1, 0]\n",
        "Q = [.25, .75]\n",
        "H = 0\n",
        "for p, q in zip(P, Q):\n",
        "  H += -p * np.log(q)\n",
        "H"
      ],
      "metadata": {
        "id": "et1HyOu21MQF",
        "outputId": "cdc8d901-76a5-4dd6-bbc3-2a7d162ae4f0",
        "colab": {
          "base_uri": "https://localhost:8080/"
        }
      },
      "execution_count": 24,
      "outputs": [
        {
          "output_type": "execute_result",
          "data": {
            "text/plain": [
              "1.3862943611198906"
            ]
          },
          "metadata": {},
          "execution_count": 24
        }
      ]
    },
    {
      "cell_type": "code",
      "source": [
        "P_tensor = torch.Tensor(P)\n",
        "Q_tensor = torch.Tensor(Q)\n",
        "F.binary_cross_entropy(Q_tensor, P_tensor)"
      ],
      "metadata": {
        "id": "fD4Qwz192D0B",
        "outputId": "1fc474b3-10a4-458e-c79a-cd08c6c419c4",
        "colab": {
          "base_uri": "https://localhost:8080/"
        }
      },
      "execution_count": 25,
      "outputs": [
        {
          "output_type": "execute_result",
          "data": {
            "text/plain": [
              "tensor(1.3863)"
            ]
          },
          "metadata": {},
          "execution_count": 25
        }
      ]
    },
    {
      "cell_type": "markdown",
      "source": [
        "# Sampling variablity"
      ],
      "metadata": {
        "id": "MSxFMkMS7EUe"
      }
    },
    {
      "cell_type": "code",
      "source": [
        "x = [1, 2, 4, 6, 5, 4, 0, -4, 5, -2, 6, 10, -9, 1, 3, -6]\n",
        "n = len(x)\n",
        "\n",
        "population_mean = np.mean(x)\n",
        "\n",
        "sample = np.random.choice(x, size=5, replace=True)\n",
        "sample_mean = np.mean(sample)\n",
        "\n",
        "print(population_mean, sample_mean)"
      ],
      "metadata": {
        "id": "YeZmg0S83Jo0",
        "colab": {
          "base_uri": "https://localhost:8080/"
        },
        "outputId": "e1502a50-59da-4b7a-f387-bd591741eb1a"
      },
      "execution_count": 34,
      "outputs": [
        {
          "output_type": "stream",
          "name": "stdout",
          "text": [
            "1.625 -1.0\n"
          ]
        }
      ]
    },
    {
      "cell_type": "code",
      "source": [
        "# experiment demonstrating law of large numbers\n",
        "\n",
        "n_exps = 10_000\n",
        "\n",
        "sample_means = np.zeros(n_exps)\n",
        "\n",
        "for i in range(n_exps):\n",
        "  sample = np.random.choice(x, size=100, replace=True)\n",
        "  sample_means[i] = np.mean(sample)\n",
        "\n",
        "plt.hist(sample_means, bins=40, density=True)\n",
        "plt.axvline(population_mean, color='red');"
      ],
      "metadata": {
        "colab": {
          "base_uri": "https://localhost:8080/",
          "height": 430
        },
        "id": "3Id36j2I7nFd",
        "outputId": "3c4f3fe2-c052-4b7b-d654-807ad04b846f"
      },
      "execution_count": 39,
      "outputs": [
        {
          "output_type": "display_data",
          "data": {
            "text/plain": [
              "<Figure size 640x480 with 1 Axes>"
            ],
            "image/png": "[encoded data removed]"
          },
          "metadata": {}
        }
      ]
    },
    {
      "cell_type": "markdown",
      "source": [
        "# Seeding : reproducible random numbers"
      ],
      "metadata": {
        "id": "ot4Ep9ec9ZWf"
      }
    },
    {
      "cell_type": "code",
      "source": [
        "# old way : np.random.seed(seed_val)"
      ],
      "metadata": {
        "id": "njV69Rp38TAj"
      },
      "execution_count": 40,
      "outputs": []
    },
    {
      "cell_type": "code",
      "source": [
        "# new way\n",
        "np_seeder_1 = np.random.RandomState(seed=17)\n",
        "np_seeder_2 = np.random.RandomState(seed=20241017)"
      ],
      "metadata": {
        "id": "2wUzdxct9gFe"
      },
      "execution_count": 41,
      "outputs": []
    },
    {
      "cell_type": "code",
      "source": [
        "# new way\n",
        "np_seeder_1 = np.random.RandomState(seed=17)\n",
        "np_seeder_2 = np.random.RandomState(seed=20241017)\n",
        "np_seeder_1.randn(3)"
      ],
      "metadata": {
        "id": "EEAV8Ck29qGW",
        "outputId": "3bd4574d-dfe2-4974-ce80-bb119886afe9",
        "colab": {
          "base_uri": "https://localhost:8080/"
        }
      },
      "execution_count": 49,
      "outputs": [
        {
          "output_type": "execute_result",
          "data": {
            "text/plain": [
              "array([ 0.27626589, -1.85462808,  0.62390111])"
            ]
          },
          "metadata": {},
          "execution_count": 49
        }
      ]
    },
    {
      "cell_type": "code",
      "source": [
        "np_seeder_1 = np.random.RandomState(seed=17)\n",
        "np_seeder_2 = np.random.RandomState(seed=20241017)\n",
        "\n",
        "np_seeder_2.randn(3)"
      ],
      "metadata": {
        "id": "NlYI8sDn9vu3",
        "outputId": "c3c77c5b-2980-4d2b-bf68-b8d6964eb1ed",
        "colab": {
          "base_uri": "https://localhost:8080/"
        }
      },
      "execution_count": 53,
      "outputs": [
        {
          "output_type": "execute_result",
          "data": {
            "text/plain": [
              "array([-1.1638425 ,  1.55051823,  0.87856647])"
            ]
          },
          "metadata": {},
          "execution_count": 53
        }
      ]
    },
    {
      "cell_type": "code",
      "source": [
        "torch.randn(3)"
      ],
      "metadata": {
        "id": "fZCj64C790ag",
        "outputId": "adb3d1eb-2485-4a52-be94-c1f504c4d69e",
        "colab": {
          "base_uri": "https://localhost:8080/"
        }
      },
      "execution_count": 54,
      "outputs": [
        {
          "output_type": "execute_result",
          "data": {
            "text/plain": [
              "tensor([-0.8770, -0.7910, -1.8975])"
            ]
          },
          "metadata": {},
          "execution_count": 54
        }
      ]
    },
    {
      "cell_type": "code",
      "source": [
        "torch.manual_seed(17)\n",
        "torch.randn(3)"
      ],
      "metadata": {
        "id": "tXdPJ5s6-u2U",
        "outputId": "05e8db0e-0809-42ea-b3b9-6d6c37b6b7aa",
        "colab": {
          "base_uri": "https://localhost:8080/"
        }
      },
      "execution_count": 55,
      "outputs": [
        {
          "output_type": "execute_result",
          "data": {
            "text/plain": [
              "tensor([-1.4135,  0.2336,  0.0340])"
            ]
          },
          "metadata": {},
          "execution_count": 55
        }
      ]
    },
    {
      "cell_type": "markdown",
      "source": [
        "# T-test"
      ],
      "metadata": {
        "id": "kJ0QgWzABQ2T"
      }
    },
    {
      "cell_type": "code",
      "source": [
        "n1 = 100\n",
        "n2 = 30\n",
        "mu1 = 1\n",
        "mu2 = 1\n",
        "\n",
        "data1 = mu1 + np.random.randn(n1)\n",
        "data2 = mu2 + np.random.randn(n2)"
      ],
      "metadata": {
        "id": "bwQYFr0C-wqo"
      },
      "execution_count": 97,
      "outputs": []
    },
    {
      "cell_type": "code",
      "source": [
        "plt.plot(np.zeros(n1),data1, 'ro', markerfacecolor='w', alpha=.5, label='data1')\n",
        "plt.plot(np.ones(n2),data2, 'bs', markerfacecolor = 'w', alpha=.5, label='data2')\n",
        "plt.xlim([-1, 2])\n",
        "plt.xticks([0,1], labels=['data1', 'data2'])\n",
        "plt.legend();"
      ],
      "metadata": {
        "id": "Uaqx1MnkEQAa",
        "outputId": "5de6f4e5-71d2-450e-876f-df12500d9fb2",
        "colab": {
          "base_uri": "https://localhost:8080/",
          "height": 434
        }
      },
      "execution_count": 98,
      "outputs": [
        {
          "output_type": "display_data",
          "data": {
            "text/plain": [
              "<Figure size 640x480 with 1 Axes>"
            ],
            "image/png": "[encoded data removed]"
          },
          "metadata": {}
        }
      ]
    },
    {
      "cell_type": "code",
      "source": [
        "t, p = stats.ttest_ind(data1, data2)\n",
        "print(t, p)"
      ],
      "metadata": {
        "id": "q8BfeoGnEUdZ",
        "outputId": "22b8b9e1-f331-4bea-de84-2815f57a2750",
        "colab": {
          "base_uri": "https://localhost:8080/"
        }
      },
      "execution_count": 99,
      "outputs": [
        {
          "output_type": "stream",
          "name": "stdout",
          "text": [
            "1.1298317295113547 0.26065993086275396\n"
          ]
        }
      ]
    },
    {
      "cell_type": "code",
      "source": [
        "if p < 0.05:\n",
        "  print('Reject the null hypothesis')\n",
        "  if t > 0:\n",
        "    print('mu1 > mu2')\n",
        "  else:\n",
        "    print('mu1 < mu2')\n",
        "else:\n",
        "  print('Fail to reject the null hypothesis')\n",
        "  print('mu1 = mu2')"
      ],
      "metadata": {
        "id": "F5ui602WFFIv",
        "outputId": "5bfdeaa0-759c-4c2c-ece6-c94e91c43ec0",
        "colab": {
          "base_uri": "https://localhost:8080/"
        }
      },
      "execution_count": 100,
      "outputs": [
        {
          "output_type": "stream",
          "name": "stdout",
          "text": [
            "Fail to reject the null hypothesis\n",
            "mu1 = mu2\n"
          ]
        }
      ]
    },
    {
      "cell_type": "code",
      "source": [
        "# common way of showing the t-test results\n",
        "fig = plt.figure(figsize=(10, 5))\n",
        "plt.rcParams.update({'font.size':12})\n",
        "\n",
        "plt.plot(0 + np.random.randn(n1)/15, data1, 'ro', markerfacecolor='w', alpha=.5, label='data1')\n",
        "plt.plot(1 + np.random.randn(n2)/15, data2, 'bs', markerfacecolor = 'w', alpha=.5, label='data2')\n",
        "plt.xlim([-1, 2])\n",
        "plt.xticks([0,1], labels=['data1', 'data2'])\n",
        "plt.title(f\"t = {t:.2f}, p={p:.3f}\")\n",
        "plt.legend()"
      ],
      "metadata": {
        "id": "pw6Rur-HFPNJ",
        "outputId": "e341da04-df20-41fd-9e5a-62662bade539",
        "colab": {
          "base_uri": "https://localhost:8080/",
          "height": 491
        }
      },
      "execution_count": 102,
      "outputs": [
        {
          "output_type": "execute_result",
          "data": {
            "text/plain": [
              "<matplotlib.legend.Legend at 0x7ed3b70d9e70>"
            ]
          },
          "metadata": {},
          "execution_count": 102
        },
        {
          "output_type": "display_data",
          "data": {
            "text/plain": [
              "<Figure size 1000x500 with 1 Axes>"
            ],
            "image/png": "[encoded data removed]"
          },
          "metadata": {}
        }
      ]
    },
    {
      "cell_type": "code",
      "source": [],
      "metadata": {
        "id": "tXQxXCGbGiK1"
      },
      "execution_count": null,
      "outputs": []
    }
  ],
  "metadata": {
    "colab": {
      "name": "scratchpad",
      "provenance": [],
      "include_colab_link": true
    },
    "kernelspec": {
      "display_name": "Python 3",
      "name": "python3"
    }
  },
  "nbformat": 4,
  "nbformat_minor": 0
}